{
  "nbformat": 4,
  "nbformat_minor": 0,
  "metadata": {
    "colab": {
      "provenance": [],
      "authorship_tag": "ABX9TyP2yT9H9jIrbqdwjkk5MQ42",
      "include_colab_link": true
    },
    "kernelspec": {
      "name": "python3",
      "display_name": "Python 3"
    },
    "language_info": {
      "name": "python"
    }
  },
  "cells": [
    {
      "cell_type": "markdown",
      "metadata": {
        "id": "view-in-github",
        "colab_type": "text"
      },
      "source": [
        "<a href=\"https://colab.research.google.com/github/AdelliaHildaPutri/Praktikum-Kecerdasan-Buatan/blob/main/Praktikum3/DFS_G.211.22.0008.ipynb\" target=\"_parent\"><img src=\"https://colab.research.google.com/assets/colab-badge.svg\" alt=\"Open In Colab\"/></a>"
      ]
    },
    {
      "cell_type": "code",
      "source": [
        "peta = {'A':set(['B']),\n",
        "        'B':set(['C','A']),\n",
        "        'C':set(['H','B','I','D']),\n",
        "        'D':set(['C','E','H','F']),\n",
        "        'E':set(['D']),\n",
        "        'F':set(['D','G']),\n",
        "        'G':set(['F','H']),\n",
        "        'H':set(['L','C','G','D']),\n",
        "        'I':set(['C','J','K']),\n",
        "        'J':set(['I']),\n",
        "        'K':set(['L','I']),\n",
        "        'L':set(['K','H'])}\n",
        "\n",
        "def dfs(graph, mulai, goal):\n",
        "  explored = []\n",
        "  stack = [[mulai]]\n",
        "\n",
        "  if mulai == goal:\n",
        "    return \"Awal adalah Tujuan\"\n",
        "\n",
        "  while stack:\n",
        "    jalur = stack.pop(-1)\n",
        "    node = jalur[-1]\n",
        "\n",
        "    if node not in explored:\n",
        "      neighbours = graph[node]\n",
        "      for neighbour in neighbours:\n",
        "        jalur_baru = list(jalur)\n",
        "        jalur_baru.append(neighbour)\n",
        "        stack.append(neighbour)\n",
        "\n",
        "        if neighbour == goal:\n",
        "          return jalur_baru\n",
        "\n",
        "    return \"Mohon maaf node yang kalian pilih tidak ada\"\n",
        "\n",
        "\n",
        "awal = input(\"Masukkan awal: \")\n",
        "tujuan = input(\"Masukkan Akhir: \")\n",
        "\n",
        "print(dfs(peta, awal, tujuan))"
      ],
      "metadata": {
        "colab": {
          "base_uri": "https://localhost:8080/"
        },
        "id": "Vzp_Wzayonei",
        "outputId": "bee0bbea-9ff3-4b49-fe4f-778beb824b73"
      },
      "execution_count": null,
      "outputs": [
        {
          "output_type": "stream",
          "name": "stdout",
          "text": [
            "Masukkan awal: A\n",
            "Masukkan Akhir: B\n",
            "['A', 'B']\n"
          ]
        }
      ]
    },
    {
      "cell_type": "markdown",
      "source": [
        "**Tugas Praktikum**"
      ],
      "metadata": {
        "id": "Fi2yJqYSfVij"
      }
    },
    {
      "cell_type": "code",
      "source": [
        "from collections import defaultdict\n",
        "\n",
        "# Kelas untuk merepresentasikan graf\n",
        "class Graph:\n",
        "    def __init__(self):\n",
        "        self.graph = defaultdict(list)\n",
        "\n",
        "    # Fungsi untuk menambahkan sisi pada graf\n",
        "    def add_edge(self, node, neighbor):\n",
        "        self.graph[node].append(neighbor)\n",
        "\n",
        "    # Fungsi DFS\n",
        "    def dfs(self, start):\n",
        "        visited = set()\n",
        "        stack = [start]\n",
        "\n",
        "        while stack:\n",
        "            vertex = stack.pop()\n",
        "            if vertex not in visited:\n",
        "                print(vertex, end=' ')\n",
        "                visited.add(vertex)\n",
        "                if vertex in self.graph:\n",
        "                    neighbors = self.graph[vertex][::-1]  # Membalik urutan sisi untuk stack\n",
        "                    for neighbor in neighbors:\n",
        "                        stack.append(neighbor)\n",
        "\n",
        "# Inisialisasi graf\n",
        "g = Graph()\n",
        "\n",
        "# Input sisi-sisi pada graf\n",
        "edges = [('A', 'B'), ('B', 'S'), ('S', 'C'), ('S', 'D'), ('C', 'E'), ('D', 'E')]\n",
        "\n",
        "for edge in edges:\n",
        "    g.add_edge(*edge)\n",
        "\n",
        "# Memulai DFS dari node tertentu (dalam hal ini 'A')\n",
        "print(\"Hasil DFS:\")\n",
        "g.dfs('A')\n"
      ],
      "metadata": {
        "colab": {
          "base_uri": "https://localhost:8080/"
        },
        "id": "aiVJEDYgnMWk",
        "outputId": "764a5e57-eb5c-4eca-a179-122ae0a6f3da"
      },
      "execution_count": null,
      "outputs": [
        {
          "output_type": "stream",
          "name": "stdout",
          "text": [
            "Hasil DFS:\n",
            "A B S C E D "
          ]
        }
      ]
    }
  ]
}